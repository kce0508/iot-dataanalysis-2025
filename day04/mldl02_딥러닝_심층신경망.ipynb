{
 "cells": [
  {
   "cell_type": "markdown",
   "id": "d40fd81e",
   "metadata": {},
   "source": [
    "## 딥러닝\n",
    "\n",
    "### 심층신경망"
   ]
  },
  {
   "cell_type": "code",
   "execution_count": 160,
   "id": "08fb7bdf",
   "metadata": {},
   "outputs": [],
   "source": [
    "# 모듈 로드\n",
    "import tensorflow as tf\n",
    "from tensorflow import keras\n",
    "import numpy as np"
   ]
  },
  {
   "cell_type": "code",
   "execution_count": 161,
   "id": "011a1c13",
   "metadata": {},
   "outputs": [],
   "source": [
    "(train_input, train_target), (test_input, test_target) = keras.datasets.fashion_mnist.load_data()"
   ]
  },
  {
   "cell_type": "markdown",
   "id": "bdc5f353",
   "metadata": {},
   "source": [
    "- 이미 이전장에서 다운로드 했기때문에 다시 다운로드 하지 않음"
   ]
  },
  {
   "cell_type": "code",
   "execution_count": 162,
   "id": "ded11175",
   "metadata": {},
   "outputs": [],
   "source": [
    "# 훈련세트, 검증세트 분리\n",
    "from sklearn.model_selection import train_test_split\n",
    "from sklearn.preprocessing import StandardScaler"
   ]
  },
  {
   "cell_type": "code",
   "execution_count": 163,
   "id": "bd2ccb2f",
   "metadata": {},
   "outputs": [],
   "source": [
    "train_input = train_input.reshape(-1, 28*28)\n",
    "test_input = test_input.reshape(-1, 28*28)"
   ]
  },
  {
   "cell_type": "code",
   "execution_count": 164,
   "id": "593d0738",
   "metadata": {},
   "outputs": [],
   "source": [
    "# 스케일링\n",
    "scaler = StandardScaler()\n",
    "train_scaled = scaler.fit_transform(train_input.astype(np.float64))\n",
    "test_scaled = scaler.transform(test_input.astype(np.float64))"
   ]
  },
  {
   "cell_type": "code",
   "execution_count": 165,
   "id": "e6f3db86",
   "metadata": {},
   "outputs": [],
   "source": [
    "# 훈련세트, 검증세트 분리\n",
    "train_scaled, val_scaled, train_target, val_target = train_test_split(\n",
    "    train_scaled, train_target, test_size=0.2, random_state=42\n",
    ")"
   ]
  },
  {
   "cell_type": "code",
   "execution_count": 166,
   "id": "76b78f4e",
   "metadata": {},
   "outputs": [
    {
     "name": "stdout",
     "output_type": "stream",
     "text": [
      "(48000, 784) (12000, 784) (10000, 784)\n",
      "(48000,) (12000,) (10000,)\n"
     ]
    }
   ],
   "source": [
    "print(train_scaled.shape, val_scaled.shape, test_scaled.shape)\n",
    "print(train_target.shape, val_target.shape, test_target.shape)"
   ]
  },
  {
   "cell_type": "markdown",
   "id": "d988e0ec",
   "metadata": {},
   "source": [
    "#### 심층신경망 만들기1"
   ]
  },
  {
   "cell_type": "code",
   "execution_count": 167,
   "id": "9d1ddce0",
   "metadata": {},
   "outputs": [],
   "source": [
    "# 밀집층 생성\n",
    "dense1 = keras.layers.Dense(100, activation='sigmoid', input_shape=(784,), name='hidden')\n",
    "dense2 = keras.layers.Dense(10, activation='softmax', name='output')"
   ]
  },
  {
   "cell_type": "code",
   "execution_count": 168,
   "id": "0048a304",
   "metadata": {},
   "outputs": [],
   "source": [
    "# 신경망 모델 생성\n",
    "model = keras.Sequential([dense1, dense2])"
   ]
  },
  {
   "cell_type": "code",
   "execution_count": 169,
   "id": "9d8f6e38",
   "metadata": {},
   "outputs": [
    {
     "name": "stdout",
     "output_type": "stream",
     "text": [
      "Model: \"sequential_7\"\n",
      "_________________________________________________________________\n",
      " Layer (type)                Output Shape              Param #   \n",
      "=================================================================\n",
      " hidden (Dense)              (None, 100)               78500     \n",
      "                                                                 \n",
      " output (Dense)              (None, 10)                1010      \n",
      "                                                                 \n",
      "=================================================================\n",
      "Total params: 79510 (310.59 KB)\n",
      "Trainable params: 79510 (310.59 KB)\n",
      "Non-trainable params: 0 (0.00 Byte)\n",
      "_________________________________________________________________\n"
     ]
    }
   ],
   "source": [
    "# 모델 요약\n",
    "model.summary()"
   ]
  },
  {
   "cell_type": "markdown",
   "id": "62e9773f",
   "metadata": {},
   "source": [
    "#### 심층신경망 만들기2"
   ]
  },
  {
   "cell_type": "code",
   "execution_count": 170,
   "id": "5095e554",
   "metadata": {},
   "outputs": [],
   "source": [
    "model = keras.Sequential([\n",
    "    keras.layers.Dense(100, activation='sigmoid', input_shape=(784,), name='hidden'),\n",
    "    keras.layers.Dense(10, activation='softmax', name='output')\n",
    "], name='Fashion_MNIST_Model')"
   ]
  },
  {
   "cell_type": "code",
   "execution_count": 171,
   "id": "a6ff503f",
   "metadata": {},
   "outputs": [
    {
     "name": "stdout",
     "output_type": "stream",
     "text": [
      "Model: \"Fashion_MNIST_Model\"\n",
      "_________________________________________________________________\n",
      " Layer (type)                Output Shape              Param #   \n",
      "=================================================================\n",
      " hidden (Dense)              (None, 100)               78500     \n",
      "                                                                 \n",
      " output (Dense)              (None, 10)                1010      \n",
      "                                                                 \n",
      "=================================================================\n",
      "Total params: 79510 (310.59 KB)\n",
      "Trainable params: 79510 (310.59 KB)\n",
      "Non-trainable params: 0 (0.00 Byte)\n",
      "_________________________________________________________________\n"
     ]
    }
   ],
   "source": [
    "model.summary()"
   ]
  },
  {
   "cell_type": "code",
   "execution_count": 172,
   "id": "f3e77885",
   "metadata": {},
   "outputs": [],
   "source": [
    "# 모델 훈련전 설정\n",
    "model.compile(loss='sparse_categorical_crossentropy', metrics='accuracy')"
   ]
  },
  {
   "cell_type": "code",
   "execution_count": 173,
   "id": "69037f59",
   "metadata": {},
   "outputs": [
    {
     "name": "stdout",
     "output_type": "stream",
     "text": [
      "Epoch 1/100\n",
      "1500/1500 [==============================] - 1s 881us/step - loss: 0.4694 - accuracy: 0.8368\n",
      "Epoch 2/100\n",
      "1500/1500 [==============================] - 1s 862us/step - loss: 0.3556 - accuracy: 0.8734\n",
      "Epoch 3/100\n",
      "1500/1500 [==============================] - 1s 859us/step - loss: 0.3194 - accuracy: 0.8846\n",
      "Epoch 4/100\n",
      "1500/1500 [==============================] - 1s 891us/step - loss: 0.2944 - accuracy: 0.8943\n",
      "Epoch 5/100\n",
      "1500/1500 [==============================] - 1s 876us/step - loss: 0.2741 - accuracy: 0.9018\n",
      "Epoch 6/100\n",
      "1500/1500 [==============================] - 1s 880us/step - loss: 0.2577 - accuracy: 0.9074\n",
      "Epoch 7/100\n",
      "1500/1500 [==============================] - 1s 870us/step - loss: 0.2438 - accuracy: 0.9119\n",
      "Epoch 8/100\n",
      "1500/1500 [==============================] - 1s 897us/step - loss: 0.2301 - accuracy: 0.9184\n",
      "Epoch 9/100\n",
      "1500/1500 [==============================] - 1s 863us/step - loss: 0.2182 - accuracy: 0.9216\n",
      "Epoch 10/100\n",
      "1500/1500 [==============================] - 1s 857us/step - loss: 0.2069 - accuracy: 0.9259\n",
      "Epoch 11/100\n",
      "1500/1500 [==============================] - 1s 877us/step - loss: 0.1973 - accuracy: 0.9310\n",
      "Epoch 12/100\n",
      "1500/1500 [==============================] - 1s 859us/step - loss: 0.1873 - accuracy: 0.9342\n",
      "Epoch 13/100\n",
      "1500/1500 [==============================] - 1s 851us/step - loss: 0.1790 - accuracy: 0.9372\n",
      "Epoch 14/100\n",
      "1500/1500 [==============================] - 1s 866us/step - loss: 0.1707 - accuracy: 0.9398\n",
      "Epoch 15/100\n",
      "1500/1500 [==============================] - 1s 886us/step - loss: 0.1633 - accuracy: 0.9443\n",
      "Epoch 16/100\n",
      "1500/1500 [==============================] - 1s 895us/step - loss: 0.1551 - accuracy: 0.9465\n",
      "Epoch 17/100\n",
      "1500/1500 [==============================] - 1s 873us/step - loss: 0.1475 - accuracy: 0.9491\n",
      "Epoch 18/100\n",
      "1500/1500 [==============================] - 1s 866us/step - loss: 0.1405 - accuracy: 0.9536\n",
      "Epoch 19/100\n",
      "1500/1500 [==============================] - 1s 879us/step - loss: 0.1340 - accuracy: 0.9553\n",
      "Epoch 20/100\n",
      "1500/1500 [==============================] - 1s 891us/step - loss: 0.1289 - accuracy: 0.9566\n",
      "Epoch 21/100\n",
      "1500/1500 [==============================] - 1s 877us/step - loss: 0.1218 - accuracy: 0.9602\n",
      "Epoch 22/100\n",
      "1500/1500 [==============================] - 1s 886us/step - loss: 0.1158 - accuracy: 0.9618\n",
      "Epoch 23/100\n",
      "1500/1500 [==============================] - 1s 849us/step - loss: 0.1114 - accuracy: 0.9635\n",
      "Epoch 24/100\n",
      "1500/1500 [==============================] - 1s 839us/step - loss: 0.1052 - accuracy: 0.9658\n",
      "Epoch 25/100\n",
      "1500/1500 [==============================] - 1s 856us/step - loss: 0.1013 - accuracy: 0.9677\n",
      "Epoch 26/100\n",
      "1500/1500 [==============================] - 1s 852us/step - loss: 0.0956 - accuracy: 0.9700\n",
      "Epoch 27/100\n",
      "1500/1500 [==============================] - 1s 842us/step - loss: 0.0915 - accuracy: 0.9707\n",
      "Epoch 28/100\n",
      "1500/1500 [==============================] - 1s 861us/step - loss: 0.0874 - accuracy: 0.9719\n",
      "Epoch 29/100\n",
      "1500/1500 [==============================] - 1s 838us/step - loss: 0.0832 - accuracy: 0.9743\n",
      "Epoch 30/100\n",
      "1500/1500 [==============================] - 1s 838us/step - loss: 0.0800 - accuracy: 0.9751\n",
      "Epoch 31/100\n",
      "1500/1500 [==============================] - 1s 834us/step - loss: 0.0755 - accuracy: 0.9762\n",
      "Epoch 32/100\n",
      "1500/1500 [==============================] - 1s 845us/step - loss: 0.0717 - accuracy: 0.9774\n",
      "Epoch 33/100\n",
      "1500/1500 [==============================] - 1s 833us/step - loss: 0.0685 - accuracy: 0.9784\n",
      "Epoch 34/100\n",
      "1500/1500 [==============================] - 1s 844us/step - loss: 0.0653 - accuracy: 0.9799\n",
      "Epoch 35/100\n",
      "1500/1500 [==============================] - 1s 872us/step - loss: 0.0630 - accuracy: 0.9809\n",
      "Epoch 36/100\n",
      "1500/1500 [==============================] - 1s 847us/step - loss: 0.0597 - accuracy: 0.9814\n",
      "Epoch 37/100\n",
      "1500/1500 [==============================] - 1s 849us/step - loss: 0.0565 - accuracy: 0.9830\n",
      "Epoch 38/100\n",
      "1500/1500 [==============================] - 1s 834us/step - loss: 0.0544 - accuracy: 0.9841\n",
      "Epoch 39/100\n",
      "1500/1500 [==============================] - 1s 830us/step - loss: 0.0523 - accuracy: 0.9843\n",
      "Epoch 40/100\n",
      "1500/1500 [==============================] - 1s 851us/step - loss: 0.0497 - accuracy: 0.9850\n",
      "Epoch 41/100\n",
      "1500/1500 [==============================] - 1s 854us/step - loss: 0.0467 - accuracy: 0.9864\n",
      "Epoch 42/100\n",
      "1500/1500 [==============================] - 1s 885us/step - loss: 0.0441 - accuracy: 0.9873\n",
      "Epoch 43/100\n",
      "1500/1500 [==============================] - 1s 875us/step - loss: 0.0437 - accuracy: 0.9872\n",
      "Epoch 44/100\n",
      "1500/1500 [==============================] - 1s 824us/step - loss: 0.0407 - accuracy: 0.9879\n",
      "Epoch 45/100\n",
      "1500/1500 [==============================] - 1s 816us/step - loss: 0.0391 - accuracy: 0.9892\n",
      "Epoch 46/100\n",
      "1500/1500 [==============================] - 1s 844us/step - loss: 0.0370 - accuracy: 0.9896\n",
      "Epoch 47/100\n",
      "1500/1500 [==============================] - 1s 877us/step - loss: 0.0354 - accuracy: 0.9898\n",
      "Epoch 48/100\n",
      "1500/1500 [==============================] - 1s 885us/step - loss: 0.0339 - accuracy: 0.9906\n",
      "Epoch 49/100\n",
      "1500/1500 [==============================] - 1s 853us/step - loss: 0.0319 - accuracy: 0.9907\n",
      "Epoch 50/100\n",
      "1500/1500 [==============================] - 1s 859us/step - loss: 0.0303 - accuracy: 0.9919\n",
      "Epoch 51/100\n",
      "1500/1500 [==============================] - 1s 851us/step - loss: 0.0285 - accuracy: 0.9920\n",
      "Epoch 52/100\n",
      "1500/1500 [==============================] - 1s 831us/step - loss: 0.0277 - accuracy: 0.9930\n",
      "Epoch 53/100\n",
      "1500/1500 [==============================] - 1s 840us/step - loss: 0.0267 - accuracy: 0.9928\n",
      "Epoch 54/100\n",
      "1500/1500 [==============================] - 1s 829us/step - loss: 0.0252 - accuracy: 0.9934\n",
      "Epoch 55/100\n",
      "1500/1500 [==============================] - 1s 844us/step - loss: 0.0244 - accuracy: 0.9931\n",
      "Epoch 56/100\n",
      "1500/1500 [==============================] - 1s 865us/step - loss: 0.0224 - accuracy: 0.9942\n",
      "Epoch 57/100\n",
      "1500/1500 [==============================] - 1s 892us/step - loss: 0.0222 - accuracy: 0.9938\n",
      "Epoch 58/100\n",
      "1500/1500 [==============================] - 1s 855us/step - loss: 0.0205 - accuracy: 0.9944\n",
      "Epoch 59/100\n",
      "1500/1500 [==============================] - 1s 833us/step - loss: 0.0194 - accuracy: 0.9951\n",
      "Epoch 60/100\n",
      "1500/1500 [==============================] - 1s 841us/step - loss: 0.0189 - accuracy: 0.9948\n",
      "Epoch 61/100\n",
      "1500/1500 [==============================] - 1s 837us/step - loss: 0.0173 - accuracy: 0.9955\n",
      "Epoch 62/100\n",
      "1500/1500 [==============================] - 1s 856us/step - loss: 0.0170 - accuracy: 0.9953\n",
      "Epoch 63/100\n",
      "1500/1500 [==============================] - 1s 832us/step - loss: 0.0162 - accuracy: 0.9955\n",
      "Epoch 64/100\n",
      "1500/1500 [==============================] - 1s 836us/step - loss: 0.0155 - accuracy: 0.9959\n",
      "Epoch 65/100\n",
      "1500/1500 [==============================] - 1s 844us/step - loss: 0.0145 - accuracy: 0.9964\n",
      "Epoch 66/100\n",
      "1500/1500 [==============================] - 1s 827us/step - loss: 0.0141 - accuracy: 0.9964\n",
      "Epoch 67/100\n",
      "1500/1500 [==============================] - 1s 829us/step - loss: 0.0130 - accuracy: 0.9967\n",
      "Epoch 68/100\n",
      "1500/1500 [==============================] - 1s 835us/step - loss: 0.0125 - accuracy: 0.9968\n",
      "Epoch 69/100\n",
      "1500/1500 [==============================] - 1s 844us/step - loss: 0.0124 - accuracy: 0.9966\n",
      "Epoch 70/100\n",
      "1500/1500 [==============================] - 1s 848us/step - loss: 0.0110 - accuracy: 0.9973\n",
      "Epoch 71/100\n",
      "1500/1500 [==============================] - 1s 861us/step - loss: 0.0108 - accuracy: 0.9975\n",
      "Epoch 72/100\n",
      "1500/1500 [==============================] - 1s 827us/step - loss: 0.0101 - accuracy: 0.9977\n",
      "Epoch 73/100\n",
      "1500/1500 [==============================] - 1s 844us/step - loss: 0.0093 - accuracy: 0.9977\n",
      "Epoch 74/100\n",
      "1500/1500 [==============================] - 1s 837us/step - loss: 0.0090 - accuracy: 0.9978\n",
      "Epoch 75/100\n",
      "1500/1500 [==============================] - 1s 844us/step - loss: 0.0086 - accuracy: 0.9977\n",
      "Epoch 76/100\n",
      "1500/1500 [==============================] - 1s 834us/step - loss: 0.0078 - accuracy: 0.9983\n",
      "Epoch 77/100\n",
      "1500/1500 [==============================] - 1s 827us/step - loss: 0.0078 - accuracy: 0.9983\n",
      "Epoch 78/100\n",
      "1500/1500 [==============================] - 1s 820us/step - loss: 0.0069 - accuracy: 0.9985\n",
      "Epoch 79/100\n",
      "1500/1500 [==============================] - 1s 826us/step - loss: 0.0066 - accuracy: 0.9984\n",
      "Epoch 80/100\n",
      "1500/1500 [==============================] - 1s 817us/step - loss: 0.0071 - accuracy: 0.9981\n",
      "Epoch 81/100\n",
      "1500/1500 [==============================] - 1s 835us/step - loss: 0.0056 - accuracy: 0.9987\n",
      "Epoch 82/100\n",
      "1500/1500 [==============================] - 1s 827us/step - loss: 0.0050 - accuracy: 0.9990\n",
      "Epoch 83/100\n",
      "1500/1500 [==============================] - 1s 835us/step - loss: 0.0050 - accuracy: 0.9990\n",
      "Epoch 84/100\n",
      "1500/1500 [==============================] - 1s 853us/step - loss: 0.0045 - accuracy: 0.9991\n",
      "Epoch 85/100\n",
      "1500/1500 [==============================] - 1s 835us/step - loss: 0.0044 - accuracy: 0.9992\n",
      "Epoch 86/100\n",
      "1500/1500 [==============================] - 1s 834us/step - loss: 0.0045 - accuracy: 0.9992\n",
      "Epoch 87/100\n",
      "1500/1500 [==============================] - 1s 837us/step - loss: 0.0043 - accuracy: 0.9992\n",
      "Epoch 88/100\n",
      "1500/1500 [==============================] - 1s 840us/step - loss: 0.0039 - accuracy: 0.9992\n",
      "Epoch 89/100\n",
      "1500/1500 [==============================] - 1s 833us/step - loss: 0.0032 - accuracy: 0.9994\n",
      "Epoch 90/100\n",
      "1500/1500 [==============================] - 1s 834us/step - loss: 0.0028 - accuracy: 0.9995\n",
      "Epoch 91/100\n",
      "1500/1500 [==============================] - 1s 840us/step - loss: 0.0030 - accuracy: 0.9994\n",
      "Epoch 92/100\n",
      "1500/1500 [==============================] - 1s 838us/step - loss: 0.0030 - accuracy: 0.9995\n",
      "Epoch 93/100\n",
      "1500/1500 [==============================] - 1s 847us/step - loss: 0.0025 - accuracy: 0.9996\n",
      "Epoch 94/100\n",
      "1500/1500 [==============================] - 1s 834us/step - loss: 0.0021 - accuracy: 0.9996\n",
      "Epoch 95/100\n",
      "1500/1500 [==============================] - 1s 828us/step - loss: 0.0020 - accuracy: 0.9997\n",
      "Epoch 96/100\n",
      "1500/1500 [==============================] - 1s 838us/step - loss: 0.0021 - accuracy: 0.9995\n",
      "Epoch 97/100\n",
      "1500/1500 [==============================] - 1s 826us/step - loss: 0.0016 - accuracy: 0.9998\n",
      "Epoch 98/100\n",
      "1500/1500 [==============================] - 1s 833us/step - loss: 0.0013 - accuracy: 0.9998\n",
      "Epoch 99/100\n",
      "1500/1500 [==============================] - 1s 825us/step - loss: 0.0013 - accuracy: 0.9998\n",
      "Epoch 100/100\n",
      "1500/1500 [==============================] - 1s 820us/step - loss: 0.0013 - accuracy: 0.9999\n"
     ]
    },
    {
     "data": {
      "text/plain": [
       "<keras.src.callbacks.History at 0x1f6f082cf50>"
      ]
     },
     "execution_count": 173,
     "metadata": {},
     "output_type": "execute_result"
    }
   ],
   "source": [
    "# 훈련\n",
    "model.fit(train_scaled, train_target, epochs=100)"
   ]
  },
  {
   "cell_type": "code",
   "execution_count": 174,
   "id": "e7ce8b49",
   "metadata": {},
   "outputs": [
    {
     "name": "stdout",
     "output_type": "stream",
     "text": [
      "375/375 [==============================] - 0s 686us/step - loss: 0.8990 - accuracy: 0.8775\n"
     ]
    },
    {
     "data": {
      "text/plain": [
       "[0.899006187915802, 0.8774999976158142]"
      ]
     },
     "execution_count": 174,
     "metadata": {},
     "output_type": "execute_result"
    }
   ],
   "source": [
    "model.evaluate(val_scaled, val_target)"
   ]
  },
  {
   "cell_type": "code",
   "execution_count": 175,
   "id": "9aba528c",
   "metadata": {},
   "outputs": [
    {
     "name": "stdout",
     "output_type": "stream",
     "text": [
      "313/313 [==============================] - 0s 633us/step\n"
     ]
    }
   ],
   "source": [
    "pred_result = model.predict(test_scaled)"
   ]
  },
  {
   "cell_type": "code",
   "execution_count": 176,
   "id": "30fadbef",
   "metadata": {},
   "outputs": [],
   "source": [
    "import matplotlib.pyplot as plt\n",
    "import seaborn as sns\n",
    "import numpy as np"
   ]
  },
  {
   "cell_type": "code",
   "execution_count": 177,
   "id": "634ef347",
   "metadata": {},
   "outputs": [],
   "source": [
    "# 한글로 Matplotlib 사용시 항상 필요\n",
    "from matplotlib import rcParams, font_manager, rc\n",
    "\n",
    "font_path = 'C:/Windows/Fonts/malgun.ttf'\n",
    "font = font_manager.FontProperties(fname=font_path).get_name()\n",
    "rc('font', family=font)\n",
    "rcParams['axes.unicode_minus'] = False\n",
    "\n",
    "sns.set_style('darkgrid')\n",
    "sns.set_theme(font='Malgun Gothic', rc={'axes.unicode_minus': False})"
   ]
  },
  {
   "cell_type": "code",
   "execution_count": 178,
   "id": "a75b32fa",
   "metadata": {},
   "outputs": [],
   "source": [
    "class_names = ['티셔츠', '바지', '스웨터', '드레스', '코트', '샌달', '셔츠', '스니커즈', '가방', '앵클부츠']"
   ]
  },
  {
   "cell_type": "code",
   "execution_count": 179,
   "id": "5628752a",
   "metadata": {},
   "outputs": [],
   "source": [
    "# 테스트이미지와 예측결과 시각화\n",
    "def show_image(index):\n",
    "    plt.figure(figsize=(2,2))\n",
    "    plt.imshow(test_input[index].reshape(28, 28), cmap='gray_r')\n",
    "    true_label = class_names[test_target[index]]\n",
    "    pred_label = class_names[np.argmax(pred_result[index])]\n",
    "\n",
    "    # plt.title(f'실제: {true_label}, 예측: {pred_label}')\n",
    "    plt.text(0, -6, f'실제: {true_label}', fontsize=12, color='blue')\n",
    "    plt.text(0, -3, f'예측: {true_label}', fontsize=12, color='red', fontweight='bold')\n",
    "\n",
    "    plt.axis('off')\n",
    "    plt.show()"
   ]
  },
  {
   "cell_type": "code",
   "execution_count": 180,
   "id": "b9d67bf0",
   "metadata": {},
   "outputs": [
    {
     "data": {
      "image/png": "[encoded data removed]",
      "text/plain": [
       "<Figure size 200x200 with 1 Axes>"
      ]
     },
     "metadata": {},
     "output_type": "display_data"
    },
    {
     "data": {
      "image/png": "[encoded data removed]",
      "text/plain": [
       "<Figure size 200x200 with 1 Axes>"
      ]
     },
     "metadata": {},
     "output_type": "display_data"
    },
    {
     "data": {
      "image/png": "[encoded data removed]",
      "text/plain": [
       "<Figure size 200x200 with 1 Axes>"
      ]
     },
     "metadata": {},
     "output_type": "display_data"
    }
   ],
   "source": [
    "for i in range(10, 13):\n",
    "    show_image(i)"
   ]
  },
  {
   "cell_type": "markdown",
   "id": "206c960d",
   "metadata": {},
   "source": [
    "#### 렐루 함수\n",
    "\n",
    "- 인공신경망 은닉층에 초기에는 Sigmoid 함수 사용\n",
    "    - 단점 : 오른쪽, 왼쪽 끝으로 갈수록 그래프가 누워있어서 올바른 출력을 못만듬\n",
    "\n",
    "- 렐루함수(ReLU) : 수정된 선형유닛 뜻의 함수\n",
    "\n",
    "    <img src=\"../image/ml0011.png\" width=\"500\">"
   ]
  },
  {
   "cell_type": "markdown",
   "id": "5b076c2b",
   "metadata": {},
   "source": [
    "#### Flatten 객체\n",
    "- 이미지 2차원배열을 1차원으로 변경할때 np.reshape() 사용\n",
    "- Flatten 클래스가 위의 일을 대신해줌"
   ]
  },
  {
   "cell_type": "code",
   "execution_count": 181,
   "id": "4fbe718e",
   "metadata": {},
   "outputs": [],
   "source": [
    "model2 = keras.Sequential([\n",
    "    keras.layers.Flatten(input_shape=(28, 28), name ='flatten'),\n",
    "    keras.layers.Dense(100, activation='relu', name='hidden'),\n",
    "    keras.layers.Dense(10, activation='softmax', name='output'),\n",
    "], name='Fashion_MNIST_RELU')"
   ]
  },
  {
   "cell_type": "code",
   "execution_count": 182,
   "id": "7f8cd520",
   "metadata": {},
   "outputs": [
    {
     "name": "stdout",
     "output_type": "stream",
     "text": [
      "Model: \"Fashion_MNIST_RELU\"\n",
      "_________________________________________________________________\n",
      " Layer (type)                Output Shape              Param #   \n",
      "=================================================================\n",
      " flatten (Flatten)           (None, 784)               0         \n",
      "                                                                 \n",
      " hidden (Dense)              (None, 100)               78500     \n",
      "                                                                 \n",
      " output (Dense)              (None, 10)                1010      \n",
      "                                                                 \n",
      "=================================================================\n",
      "Total params: 79510 (310.59 KB)\n",
      "Trainable params: 79510 (310.59 KB)\n",
      "Non-trainable params: 0 (0.00 Byte)\n",
      "_________________________________________________________________\n"
     ]
    }
   ],
   "source": [
    "model2.summary()"
   ]
  },
  {
   "cell_type": "code",
   "execution_count": 183,
   "id": "1e0d8e5c",
   "metadata": {},
   "outputs": [],
   "source": [
    "(train_input, train_target), (test_input, test_target) = keras.datasets.fashion_mnist.load_data()"
   ]
  },
  {
   "cell_type": "code",
   "execution_count": 184,
   "id": "3123cce8",
   "metadata": {},
   "outputs": [],
   "source": [
    "train_scaled = train_input / 255.0\n",
    "test_scaled = test_input / 255.0"
   ]
  },
  {
   "cell_type": "code",
   "execution_count": 185,
   "id": "ff612183",
   "metadata": {},
   "outputs": [],
   "source": [
    "# 훈련세트, 검증세트 분리\n",
    "train_scaled, val_scaled, train_target, val_target = train_test_split(\n",
    "    train_scaled, train_target, test_size=0.2, random_state=42\n",
    ")"
   ]
  },
  {
   "cell_type": "code",
   "execution_count": 186,
   "id": "c85cd660",
   "metadata": {},
   "outputs": [],
   "source": [
    "# 모델 설정\n",
    "model2.compile(loss='sparse_categorical_crossentropy', metrics='accuracy')"
   ]
  },
  {
   "cell_type": "code",
   "execution_count": 187,
   "id": "2fcbaab2",
   "metadata": {},
   "outputs": [
    {
     "name": "stdout",
     "output_type": "stream",
     "text": [
      "Epoch 1/20\n",
      "1500/1500 [==============================] - 1s 856us/step - loss: 0.5366 - accuracy: 0.8111\n",
      "Epoch 2/20\n",
      "1500/1500 [==============================] - 1s 845us/step - loss: 0.3929 - accuracy: 0.8596\n",
      "Epoch 3/20\n",
      "1500/1500 [==============================] - 1s 856us/step - loss: 0.3542 - accuracy: 0.8733\n",
      "Epoch 4/20\n",
      "1500/1500 [==============================] - 1s 845us/step - loss: 0.3318 - accuracy: 0.8804\n",
      "Epoch 5/20\n",
      "1500/1500 [==============================] - 1s 845us/step - loss: 0.3170 - accuracy: 0.8865\n",
      "Epoch 6/20\n",
      "1500/1500 [==============================] - 1s 867us/step - loss: 0.3044 - accuracy: 0.8914\n",
      "Epoch 7/20\n",
      "1500/1500 [==============================] - 1s 856us/step - loss: 0.2933 - accuracy: 0.8953\n",
      "Epoch 8/20\n",
      "1500/1500 [==============================] - 1s 856us/step - loss: 0.2865 - accuracy: 0.8984\n",
      "Epoch 9/20\n",
      "1500/1500 [==============================] - 1s 845us/step - loss: 0.2777 - accuracy: 0.9013\n",
      "Epoch 10/20\n",
      "1500/1500 [==============================] - 1s 846us/step - loss: 0.2713 - accuracy: 0.9046\n",
      "Epoch 11/20\n",
      "1500/1500 [==============================] - 1s 832us/step - loss: 0.2660 - accuracy: 0.9062\n",
      "Epoch 12/20\n",
      "1500/1500 [==============================] - 1s 845us/step - loss: 0.2613 - accuracy: 0.9093\n",
      "Epoch 13/20\n",
      "1500/1500 [==============================] - 1s 853us/step - loss: 0.2534 - accuracy: 0.9109\n",
      "Epoch 14/20\n",
      "1500/1500 [==============================] - 1s 846us/step - loss: 0.2485 - accuracy: 0.9132\n",
      "Epoch 15/20\n",
      "1500/1500 [==============================] - 1s 856us/step - loss: 0.2450 - accuracy: 0.9141\n",
      "Epoch 16/20\n",
      "1500/1500 [==============================] - 1s 845us/step - loss: 0.2388 - accuracy: 0.9169\n",
      "Epoch 17/20\n",
      "1500/1500 [==============================] - 1s 869us/step - loss: 0.2328 - accuracy: 0.9201\n",
      "Epoch 18/20\n",
      "1500/1500 [==============================] - 1s 845us/step - loss: 0.2330 - accuracy: 0.9196\n",
      "Epoch 19/20\n",
      "1500/1500 [==============================] - 1s 845us/step - loss: 0.2284 - accuracy: 0.9208\n",
      "Epoch 20/20\n",
      "1500/1500 [==============================] - 1s 856us/step - loss: 0.2213 - accuracy: 0.9240\n"
     ]
    },
    {
     "data": {
      "text/plain": [
       "<keras.src.callbacks.History at 0x1f6e58eaa90>"
      ]
     },
     "execution_count": 187,
     "metadata": {},
     "output_type": "execute_result"
    }
   ],
   "source": [
    "# 모델 훈련\n",
    "model2.fit(train_scaled, train_target, epochs=20)"
   ]
  },
  {
   "cell_type": "code",
   "execution_count": 188,
   "id": "b905c2d8",
   "metadata": {},
   "outputs": [
    {
     "name": "stdout",
     "output_type": "stream",
     "text": [
      "375/375 [==============================] - 0s 735us/step - loss: 0.4307 - accuracy: 0.8823\n"
     ]
    },
    {
     "data": {
      "text/plain": [
       "[0.4306546151638031, 0.8823333382606506]"
      ]
     },
     "execution_count": 188,
     "metadata": {},
     "output_type": "execute_result"
    }
   ],
   "source": [
    "model2.evaluate(val_scaled, val_target)\n",
    "# ReLU함수 사용시, Sigmoid함수 사용시 0.01% 개선"
   ]
  },
  {
   "cell_type": "markdown",
   "id": "6359ad1b",
   "metadata": {},
   "source": [
    "#### 옵티마이저\n",
    "- 하이퍼파라미터 값 최적화"
   ]
  },
  {
   "cell_type": "code",
   "execution_count": 189,
   "id": "f6375eca",
   "metadata": {},
   "outputs": [],
   "source": [
    "model3 = keras.Sequential([\n",
    "    keras.layers.Flatten(input_shape=(28, 28), name ='flatten'),\n",
    "    keras.layers.Dense(100, activation='relu', name='hidden'),\n",
    "    keras.layers.Dense(10, activation='softmax', name='output'),\n",
    "], name='Fashion_MNIST_RELU')"
   ]
  },
  {
   "cell_type": "code",
   "execution_count": 190,
   "id": "54337756",
   "metadata": {},
   "outputs": [],
   "source": [
    "# 모델3 설정, 최적화는 adam 클래스만 사용할 것\n",
    "model3.compile(loss='sparse_categorical_crossentropy', metrics='accuracy', optimizer='adam')"
   ]
  },
  {
   "cell_type": "code",
   "execution_count": 191,
   "id": "bb1c10e6",
   "metadata": {},
   "outputs": [
    {
     "name": "stdout",
     "output_type": "stream",
     "text": [
      "Epoch 1/20\n",
      "1500/1500 [==============================] - 2s 890us/step - loss: 0.5264 - accuracy: 0.8168\n",
      "Epoch 2/20\n",
      "1500/1500 [==============================] - 1s 867us/step - loss: 0.3888 - accuracy: 0.8612\n",
      "Epoch 3/20\n",
      "1500/1500 [==============================] - 1s 877us/step - loss: 0.3491 - accuracy: 0.8734\n",
      "Epoch 4/20\n",
      "1500/1500 [==============================] - 1s 878us/step - loss: 0.3261 - accuracy: 0.8828\n",
      "Epoch 5/20\n",
      "1500/1500 [==============================] - 1s 890us/step - loss: 0.3059 - accuracy: 0.8882\n",
      "Epoch 6/20\n",
      "1500/1500 [==============================] - 1s 868us/step - loss: 0.2882 - accuracy: 0.8937\n",
      "Epoch 7/20\n",
      "1500/1500 [==============================] - 1s 870us/step - loss: 0.2770 - accuracy: 0.8972\n",
      "Epoch 8/20\n",
      "1500/1500 [==============================] - 1s 874us/step - loss: 0.2671 - accuracy: 0.9017\n",
      "Epoch 9/20\n",
      "1500/1500 [==============================] - 1s 867us/step - loss: 0.2557 - accuracy: 0.9051\n",
      "Epoch 10/20\n",
      "1500/1500 [==============================] - 1s 867us/step - loss: 0.2450 - accuracy: 0.9085\n",
      "Epoch 11/20\n",
      "1500/1500 [==============================] - 1s 867us/step - loss: 0.2393 - accuracy: 0.9109\n",
      "Epoch 12/20\n",
      "1500/1500 [==============================] - 1s 867us/step - loss: 0.2317 - accuracy: 0.9150\n",
      "Epoch 13/20\n",
      "1500/1500 [==============================] - 1s 878us/step - loss: 0.2255 - accuracy: 0.9161\n",
      "Epoch 14/20\n",
      "1500/1500 [==============================] - 1s 856us/step - loss: 0.2180 - accuracy: 0.9180\n",
      "Epoch 15/20\n",
      "1500/1500 [==============================] - 1s 860us/step - loss: 0.2110 - accuracy: 0.9208\n",
      "Epoch 16/20\n",
      "1500/1500 [==============================] - 1s 872us/step - loss: 0.2058 - accuracy: 0.9229\n",
      "Epoch 17/20\n",
      "1500/1500 [==============================] - 1s 868us/step - loss: 0.1971 - accuracy: 0.9279\n",
      "Epoch 18/20\n",
      "1500/1500 [==============================] - 1s 864us/step - loss: 0.1951 - accuracy: 0.9272\n",
      "Epoch 19/20\n",
      "1500/1500 [==============================] - 1s 866us/step - loss: 0.1893 - accuracy: 0.9289\n",
      "Epoch 20/20\n",
      "1500/1500 [==============================] - 1s 863us/step - loss: 0.1854 - accuracy: 0.9316\n"
     ]
    },
    {
     "data": {
      "text/plain": [
       "<keras.src.callbacks.History at 0x1f70d8cfed0>"
      ]
     },
     "execution_count": 191,
     "metadata": {},
     "output_type": "execute_result"
    }
   ],
   "source": [
    "# 모델 훈련. 모델 훈련은 정보를 저장하기 때문에 다시 수행하면 이전 정보를 담고 시작작\n",
    "model3.fit(train_scaled, train_target, epochs=20)"
   ]
  },
  {
   "cell_type": "markdown",
   "id": "36969836",
   "metadata": {},
   "source": [
    "- optimizer 사용시 0.01정도 개선"
   ]
  },
  {
   "cell_type": "code",
   "execution_count": 192,
   "id": "95dffea8",
   "metadata": {},
   "outputs": [
    {
     "name": "stdout",
     "output_type": "stream",
     "text": [
      "375/375 [==============================] - 0s 707us/step - loss: 0.3629 - accuracy: 0.8808\n"
     ]
    },
    {
     "data": {
      "text/plain": [
       "[0.36285147070884705, 0.8808333277702332]"
      ]
     },
     "execution_count": 192,
     "metadata": {},
     "output_type": "execute_result"
    }
   ],
   "source": [
    "model3.evaluate(val_scaled, val_target)\n",
    "# 훈련 95%, 검증 88% -7정도 차이"
   ]
  },
  {
   "cell_type": "markdown",
   "id": "1928426f",
   "metadata": {},
   "source": [
    "#### 드롭아웃\n",
    "- 훈련과정 밀집층에 일부 뉴런을 꺼버림."
   ]
  },
  {
   "cell_type": "code",
   "execution_count": 193,
   "id": "b70f05b8",
   "metadata": {},
   "outputs": [],
   "source": [
    "model4 = keras.Sequential([\n",
    "    keras.layers.Flatten(input_shape=(28, 28), name ='flatten'),\n",
    "    keras.layers.Dense(100, activation='relu', name='hidden'),\n",
    "    keras.layers.Dropout(0.3, name='dropout'),\n",
    "    keras.layers.Dense(10, activation='softmax', name='output'),\n",
    "], name='Fashion_MNIST_RELU')"
   ]
  },
  {
   "cell_type": "code",
   "execution_count": 194,
   "id": "e41d96f1",
   "metadata": {},
   "outputs": [
    {
     "name": "stdout",
     "output_type": "stream",
     "text": [
      "Model: \"Fashion_MNIST_RELU\"\n",
      "_________________________________________________________________\n",
      " Layer (type)                Output Shape              Param #   \n",
      "=================================================================\n",
      " flatten (Flatten)           (None, 784)               0         \n",
      "                                                                 \n",
      " hidden (Dense)              (None, 100)               78500     \n",
      "                                                                 \n",
      " dropout (Dropout)           (None, 100)               0         \n",
      "                                                                 \n",
      " output (Dense)              (None, 10)                1010      \n",
      "                                                                 \n",
      "=================================================================\n",
      "Total params: 79510 (310.59 KB)\n",
      "Trainable params: 79510 (310.59 KB)\n",
      "Non-trainable params: 0 (0.00 Byte)\n",
      "_________________________________________________________________\n"
     ]
    }
   ],
   "source": [
    "model4.summary()"
   ]
  },
  {
   "cell_type": "code",
   "execution_count": 195,
   "id": "48680a69",
   "metadata": {},
   "outputs": [],
   "source": [
    "# 모델4 설정, 최적화는 adam 클래스만 사용할 것\n",
    "model4.compile(loss='sparse_categorical_crossentropy', metrics='accuracy', optimizer='adam')"
   ]
  },
  {
   "cell_type": "code",
   "execution_count": 196,
   "id": "b73fc620",
   "metadata": {},
   "outputs": [
    {
     "name": "stdout",
     "output_type": "stream",
     "text": [
      "Epoch 1/20\n",
      "1500/1500 [==============================] - 2s 935us/step - loss: 0.5916 - accuracy: 0.7899\n",
      "Epoch 2/20\n",
      "1500/1500 [==============================] - 1s 919us/step - loss: 0.4412 - accuracy: 0.8424\n",
      "Epoch 3/20\n",
      "1500/1500 [==============================] - 1s 924us/step - loss: 0.4037 - accuracy: 0.8550\n",
      "Epoch 4/20\n",
      "1500/1500 [==============================] - 1s 910us/step - loss: 0.3807 - accuracy: 0.8604\n",
      "Epoch 5/20\n",
      "1500/1500 [==============================] - 1s 905us/step - loss: 0.3667 - accuracy: 0.8654\n",
      "Epoch 6/20\n",
      "1500/1500 [==============================] - 1s 902us/step - loss: 0.3524 - accuracy: 0.8715\n",
      "Epoch 7/20\n",
      "1500/1500 [==============================] - 1s 897us/step - loss: 0.3446 - accuracy: 0.8739\n",
      "Epoch 8/20\n",
      "1500/1500 [==============================] - 1s 900us/step - loss: 0.3313 - accuracy: 0.8781\n",
      "Epoch 9/20\n",
      "1500/1500 [==============================] - 1s 910us/step - loss: 0.3260 - accuracy: 0.8805\n",
      "Epoch 10/20\n",
      "1500/1500 [==============================] - 1s 906us/step - loss: 0.3208 - accuracy: 0.8803\n",
      "Epoch 11/20\n",
      "1500/1500 [==============================] - 1s 910us/step - loss: 0.3137 - accuracy: 0.8831\n",
      "Epoch 12/20\n",
      "1500/1500 [==============================] - 1s 911us/step - loss: 0.3084 - accuracy: 0.8862\n",
      "Epoch 13/20\n",
      "1500/1500 [==============================] - 1s 990us/step - loss: 0.3030 - accuracy: 0.8868\n",
      "Epoch 14/20\n",
      "1500/1500 [==============================] - 1s 956us/step - loss: 0.2991 - accuracy: 0.8885\n",
      "Epoch 15/20\n",
      "1500/1500 [==============================] - 1s 914us/step - loss: 0.2928 - accuracy: 0.8908\n",
      "Epoch 16/20\n",
      "1500/1500 [==============================] - 1s 950us/step - loss: 0.2913 - accuracy: 0.8907\n",
      "Epoch 17/20\n",
      "1500/1500 [==============================] - 1s 957us/step - loss: 0.2854 - accuracy: 0.8942\n",
      "Epoch 18/20\n",
      "1500/1500 [==============================] - 1s 964us/step - loss: 0.2820 - accuracy: 0.8946\n",
      "Epoch 19/20\n",
      "1500/1500 [==============================] - 1s 942us/step - loss: 0.2814 - accuracy: 0.8936\n",
      "Epoch 20/20\n",
      "1500/1500 [==============================] - 1s 966us/step - loss: 0.2766 - accuracy: 0.8961\n"
     ]
    },
    {
     "data": {
      "text/plain": [
       "<keras.src.callbacks.History at 0x1f6f97db950>"
      ]
     },
     "execution_count": 196,
     "metadata": {},
     "output_type": "execute_result"
    }
   ],
   "source": [
    "# 모델 훈련. 모델 훈련은 정보를 저장하기 때문에 다시 수행하면 이전 정보를 담고 시작\n",
    "model4.fit(train_scaled, train_target, epochs=20)"
   ]
  },
  {
   "cell_type": "code",
   "execution_count": 197,
   "id": "bc191358",
   "metadata": {},
   "outputs": [
    {
     "name": "stdout",
     "output_type": "stream",
     "text": [
      "375/375 [==============================] - 0s 705us/step - loss: 0.3069 - accuracy: 0.8903\n"
     ]
    },
    {
     "data": {
      "text/plain": [
       "[0.3068779706954956, 0.890333354473114]"
      ]
     },
     "execution_count": 197,
     "metadata": {},
     "output_type": "execute_result"
    }
   ],
   "source": [
    "model4.evaluate(val_scaled, val_target)\n",
    "# 훈련 89%, 검증 88% -1차이(훈련과 검증사이에 차이가 거의 없음)"
   ]
  },
  {
   "cell_type": "markdown",
   "id": "ad4c9d16",
   "metadata": {},
   "source": [
    "- 드롭아웃하면 정확도가 떨어짐 > 훈련과 검증(테스트)사이에 정확도 차이가 줄어듬\n",
    "- `과대적합`(훈련세트 훈련에 너무 치중하여서 정확도가 너무 높은 것) 방지"
   ]
  },
  {
   "cell_type": "markdown",
   "id": "e5d9a92b",
   "metadata": {},
   "source": [
    "#### 모델의 저장과 복원\n",
    "- 훈련시간이 딥러닝에 크게 좌우됨. 저장이 없으면 다시 훈련시키고 시간을 소요해야 됨\n",
    "- 파일로 저장 후 모델에 대한 구조와 파라미터만 저장하는 두가지 방법이 존재"
   ]
  },
  {
   "cell_type": "code",
   "execution_count": 198,
   "id": "483f7dba",
   "metadata": {},
   "outputs": [],
   "source": [
    "# 모델4 저장 - 파라미터만 저장\n",
    "model4.save_weights('./model4-weight.h5')"
   ]
  },
  {
   "cell_type": "code",
   "execution_count": 199,
   "id": "e8be9348",
   "metadata": {},
   "outputs": [
    {
     "name": "stderr",
     "output_type": "stream",
     "text": [
      "c:\\Source\\iot-dataanalysis-2025\\mlvenv\\Lib\\site-packages\\keras\\src\\engine\\training.py:3103: UserWarning: You are saving your model as an HDF5 file via `model.save()`. This file format is considered legacy. We recommend using instead the native Keras format, e.g. `model.save('my_model.keras')`.\n",
      "  saving_api.save_model(\n"
     ]
    }
   ],
   "source": [
    "# 모델4 저장 - 전체(모델 구조와 파라미터) 저장\n",
    "model4.save('./model4-whole.h5')"
   ]
  },
  {
   "cell_type": "markdown",
   "id": "193c3a0c",
   "metadata": {},
   "source": [
    "##### 모델 사용\n",
    "- 파라미터만 저장한 파일을 사용하려면, 먼저 모델을 생성해야 함"
   ]
  },
  {
   "cell_type": "code",
   "execution_count": 200,
   "id": "991107d5",
   "metadata": {},
   "outputs": [],
   "source": [
    "model5 = keras.Sequential([\n",
    "    keras.layers.Flatten(input_shape=(28, 28), name ='flatten5'),\n",
    "    keras.layers.Dense(100, activation='relu', name='hidden5'),\n",
    "    keras.layers.Dropout(0.3, name='dropout5'),\n",
    "    keras.layers.Dense(10, activation='softmax', name='output5'),\n",
    "], name='Fashion_MNIST_RELU5')"
   ]
  },
  {
   "cell_type": "code",
   "execution_count": 201,
   "id": "a9291855",
   "metadata": {},
   "outputs": [],
   "source": [
    "model5.load_weights('./model4-weight.h5')"
   ]
  },
  {
   "cell_type": "code",
   "execution_count": 202,
   "id": "05504f04",
   "metadata": {},
   "outputs": [
    {
     "name": "stdout",
     "output_type": "stream",
     "text": [
      "Model: \"Fashion_MNIST_RELU5\"\n",
      "_________________________________________________________________\n",
      " Layer (type)                Output Shape              Param #   \n",
      "=================================================================\n",
      " flatten5 (Flatten)          (None, 784)               0         \n",
      "                                                                 \n",
      " hidden5 (Dense)             (None, 100)               78500     \n",
      "                                                                 \n",
      " dropout5 (Dropout)          (None, 100)               0         \n",
      "                                                                 \n",
      " output5 (Dense)             (None, 10)                1010      \n",
      "                                                                 \n",
      "=================================================================\n",
      "Total params: 79510 (310.59 KB)\n",
      "Trainable params: 79510 (310.59 KB)\n",
      "Non-trainable params: 0 (0.00 Byte)\n",
      "_________________________________________________________________\n"
     ]
    }
   ],
   "source": [
    "model5.summary()"
   ]
  },
  {
   "cell_type": "code",
   "execution_count": 203,
   "id": "efa3ebc5",
   "metadata": {},
   "outputs": [
    {
     "name": "stdout",
     "output_type": "stream",
     "text": [
      "313/313 [==============================] - 0s 695us/step\n"
     ]
    }
   ],
   "source": [
    "pred_result =model5.predict(test_scaled)"
   ]
  },
  {
   "cell_type": "markdown",
   "id": "a5fc9e3a",
   "metadata": {},
   "source": [
    "- 모델까지 전부 생성해주는 방법"
   ]
  },
  {
   "cell_type": "code",
   "execution_count": 206,
   "id": "0a91e22e",
   "metadata": {},
   "outputs": [
    {
     "ename": "ValueError",
     "evalue": "No model config found in the file at <tensorflow.python.platform.gfile.GFile object at 0x000001F6CF1729D0>.",
     "output_type": "error",
     "traceback": [
      "\u001b[31m---------------------------------------------------------------------------\u001b[39m",
      "\u001b[31mValueError\u001b[39m                                Traceback (most recent call last)",
      "\u001b[36mCell\u001b[39m\u001b[36m \u001b[39m\u001b[32mIn[206]\u001b[39m\u001b[32m, line 1\u001b[39m\n\u001b[32m----> \u001b[39m\u001b[32m1\u001b[39m model6 = \u001b[43mkeras\u001b[49m\u001b[43m.\u001b[49m\u001b[43mmodels\u001b[49m\u001b[43m.\u001b[49m\u001b[43mload_model\u001b[49m\u001b[43m(\u001b[49m\u001b[33;43m'\u001b[39;49m\u001b[33;43m./model4-weight.h5\u001b[39;49m\u001b[33;43m'\u001b[39;49m\u001b[43m)\u001b[49m\n",
      "\u001b[36mFile \u001b[39m\u001b[32mc:\\Source\\iot-dataanalysis-2025\\mlvenv\\Lib\\site-packages\\keras\\src\\saving\\saving_api.py:262\u001b[39m, in \u001b[36mload_model\u001b[39m\u001b[34m(filepath, custom_objects, compile, safe_mode, **kwargs)\u001b[39m\n\u001b[32m    254\u001b[39m     \u001b[38;5;28;01mreturn\u001b[39;00m saving_lib.load_model(\n\u001b[32m    255\u001b[39m         filepath,\n\u001b[32m    256\u001b[39m         custom_objects=custom_objects,\n\u001b[32m    257\u001b[39m         \u001b[38;5;28mcompile\u001b[39m=\u001b[38;5;28mcompile\u001b[39m,\n\u001b[32m    258\u001b[39m         safe_mode=safe_mode,\n\u001b[32m    259\u001b[39m     )\n\u001b[32m    261\u001b[39m \u001b[38;5;66;03m# Legacy case.\u001b[39;00m\n\u001b[32m--> \u001b[39m\u001b[32m262\u001b[39m \u001b[38;5;28;01mreturn\u001b[39;00m \u001b[43mlegacy_sm_saving_lib\u001b[49m\u001b[43m.\u001b[49m\u001b[43mload_model\u001b[49m\u001b[43m(\u001b[49m\n\u001b[32m    263\u001b[39m \u001b[43m    \u001b[49m\u001b[43mfilepath\u001b[49m\u001b[43m,\u001b[49m\u001b[43m \u001b[49m\u001b[43mcustom_objects\u001b[49m\u001b[43m=\u001b[49m\u001b[43mcustom_objects\u001b[49m\u001b[43m,\u001b[49m\u001b[43m \u001b[49m\u001b[38;5;28;43mcompile\u001b[39;49m\u001b[43m=\u001b[49m\u001b[38;5;28;43mcompile\u001b[39;49m\u001b[43m,\u001b[49m\u001b[43m \u001b[49m\u001b[43m*\u001b[49m\u001b[43m*\u001b[49m\u001b[43mkwargs\u001b[49m\n\u001b[32m    264\u001b[39m \u001b[43m\u001b[49m\u001b[43m)\u001b[49m\n",
      "\u001b[36mFile \u001b[39m\u001b[32mc:\\Source\\iot-dataanalysis-2025\\mlvenv\\Lib\\site-packages\\keras\\src\\utils\\traceback_utils.py:70\u001b[39m, in \u001b[36mfilter_traceback.<locals>.error_handler\u001b[39m\u001b[34m(*args, **kwargs)\u001b[39m\n\u001b[32m     67\u001b[39m     filtered_tb = _process_traceback_frames(e.__traceback__)\n\u001b[32m     68\u001b[39m     \u001b[38;5;66;03m# To get the full stack trace, call:\u001b[39;00m\n\u001b[32m     69\u001b[39m     \u001b[38;5;66;03m# `tf.debugging.disable_traceback_filtering()`\u001b[39;00m\n\u001b[32m---> \u001b[39m\u001b[32m70\u001b[39m     \u001b[38;5;28;01mraise\u001b[39;00m e.with_traceback(filtered_tb) \u001b[38;5;28;01mfrom\u001b[39;00m\u001b[38;5;250m \u001b[39m\u001b[38;5;28;01mNone\u001b[39;00m\n\u001b[32m     71\u001b[39m \u001b[38;5;28;01mfinally\u001b[39;00m:\n\u001b[32m     72\u001b[39m     \u001b[38;5;28;01mdel\u001b[39;00m filtered_tb\n",
      "\u001b[36mFile \u001b[39m\u001b[32mc:\\Source\\iot-dataanalysis-2025\\mlvenv\\Lib\\site-packages\\keras\\src\\saving\\legacy\\hdf5_format.py:197\u001b[39m, in \u001b[36mload_model_from_hdf5\u001b[39m\u001b[34m(filepath, custom_objects, compile)\u001b[39m\n\u001b[32m    195\u001b[39m model_config = f.attrs.get(\u001b[33m\"\u001b[39m\u001b[33mmodel_config\u001b[39m\u001b[33m\"\u001b[39m)\n\u001b[32m    196\u001b[39m \u001b[38;5;28;01mif\u001b[39;00m model_config \u001b[38;5;129;01mis\u001b[39;00m \u001b[38;5;28;01mNone\u001b[39;00m:\n\u001b[32m--> \u001b[39m\u001b[32m197\u001b[39m     \u001b[38;5;28;01mraise\u001b[39;00m \u001b[38;5;167;01mValueError\u001b[39;00m(\n\u001b[32m    198\u001b[39m         \u001b[33mf\u001b[39m\u001b[33m\"\u001b[39m\u001b[33mNo model config found in the file at \u001b[39m\u001b[38;5;132;01m{\u001b[39;00mfilepath\u001b[38;5;132;01m}\u001b[39;00m\u001b[33m.\u001b[39m\u001b[33m\"\u001b[39m\n\u001b[32m    199\u001b[39m     )\n\u001b[32m    200\u001b[39m \u001b[38;5;28;01mif\u001b[39;00m \u001b[38;5;28mhasattr\u001b[39m(model_config, \u001b[33m\"\u001b[39m\u001b[33mdecode\u001b[39m\u001b[33m\"\u001b[39m):\n\u001b[32m    201\u001b[39m     model_config = model_config.decode(\u001b[33m\"\u001b[39m\u001b[33mutf-8\u001b[39m\u001b[33m\"\u001b[39m)\n",
      "\u001b[31mValueError\u001b[39m: No model config found in the file at <tensorflow.python.platform.gfile.GFile object at 0x000001F6CF1729D0>."
     ]
    }
   ],
   "source": [
    "model6 = keras.models.load_model('./model4-weight.h5')"
   ]
  },
  {
   "cell_type": "code",
   "execution_count": 207,
   "id": "96ea9900",
   "metadata": {},
   "outputs": [
    {
     "ename": "NameError",
     "evalue": "name 'model6' is not defined",
     "output_type": "error",
     "traceback": [
      "\u001b[31m---------------------------------------------------------------------------\u001b[39m",
      "\u001b[31mNameError\u001b[39m                                 Traceback (most recent call last)",
      "\u001b[36mCell\u001b[39m\u001b[36m \u001b[39m\u001b[32mIn[207]\u001b[39m\u001b[32m, line 1\u001b[39m\n\u001b[32m----> \u001b[39m\u001b[32m1\u001b[39m \u001b[43mmodel6\u001b[49m.summary()\n",
      "\u001b[31mNameError\u001b[39m: name 'model6' is not defined"
     ]
    }
   ],
   "source": [
    "model6.summary()"
   ]
  },
  {
   "cell_type": "code",
   "execution_count": 208,
   "id": "12d3c127",
   "metadata": {},
   "outputs": [
    {
     "ename": "NameError",
     "evalue": "name 'model6' is not defined",
     "output_type": "error",
     "traceback": [
      "\u001b[31m---------------------------------------------------------------------------\u001b[39m",
      "\u001b[31mNameError\u001b[39m                                 Traceback (most recent call last)",
      "\u001b[36mCell\u001b[39m\u001b[36m \u001b[39m\u001b[32mIn[208]\u001b[39m\u001b[32m, line 1\u001b[39m\n\u001b[32m----> \u001b[39m\u001b[32m1\u001b[39m \u001b[43mmodel6\u001b[49m.evaluate(test_scaled, test_target)\n",
      "\u001b[31mNameError\u001b[39m: name 'model6' is not defined"
     ]
    }
   ],
   "source": [
    "model6.evaluate(test_scaled, test_target)"
   ]
  },
  {
   "cell_type": "markdown",
   "id": "e33c76b7",
   "metadata": {},
   "source": [
    "#### 콜백\n",
    "- 실행도중 다른 일을 할 수 있도록 해주는 기능\n",
    "- `조기종료`를 위해서 사용"
   ]
  },
  {
   "cell_type": "code",
   "execution_count": null,
   "id": "58567370",
   "metadata": {},
   "outputs": [],
   "source": [
    "model7 = keras.Sequential([\n",
    "    keras.layers.Flatten(input_shape=(28, 28), name ='flatten'),\n",
    "    keras.layers.Dense(100, activation='relu', name='hidden'),\n",
    "    keras.layers.Dropout(0.3, name='dropout'),\n",
    "    keras.layers.Dense(10, activation='softmax', name='output'),\n",
    "], name='Fashion_MNIST_RELU7')"
   ]
  },
  {
   "cell_type": "code",
   "execution_count": null,
   "id": "02a2fe2d",
   "metadata": {},
   "outputs": [],
   "source": [
    "model7.compile(loss='sparse_categorical_crossentropy', metrics='accuracy', optimizer='adam')"
   ]
  },
  {
   "cell_type": "code",
   "execution_count": null,
   "id": "00a786aa",
   "metadata": {},
   "outputs": [],
   "source": [
    "# 에포크마다 모델 저장기능 콜백\n",
    "checkpoint_cb = keras.callbacks.ModelCheckpoint('./best-model.h5', save_best_only=True) # 최고 상태면 저장\n",
    "# 조기종료 콜백\n",
    "## 두번이상 훈련값이 동일하면 조기종료, 이전 최고상태로 복구\n",
    "early_stopp_cb = keras.callbacks.EarlyStopping(patience=2, restore_best_weights=True)"
   ]
  },
  {
   "cell_type": "code",
   "execution_count": null,
   "id": "63ce6c04",
   "metadata": {},
   "outputs": [],
   "source": [
    "# 모델 훈련. 모델 훈련은 정보를 저장하기 때문에 다시 수행하면 이전 정보를 담고 시작\n",
    "model7.fit(train_scaled, train_target, epochs=20, validation_data=(val_scaled, val_target),\n",
    "           callbacks=[checkpoint_cb, early_stopp_cb])"
   ]
  },
  {
   "cell_type": "markdown",
   "id": "8d8a1dae",
   "metadata": {},
   "source": [
    "- 20번중 15번 반복에서 조기종료"
   ]
  },
  {
   "cell_type": "code",
   "execution_count": null,
   "id": "268f7612",
   "metadata": {},
   "outputs": [],
   "source": [
    "model7.evaluate(val_scaled, val_target)"
   ]
  },
  {
   "cell_type": "code",
   "execution_count": null,
   "id": "a92339c3",
   "metadata": {},
   "outputs": [],
   "source": [
    "model7.evaluate(test_scaled, test_target)"
   ]
  },
  {
   "cell_type": "code",
   "execution_count": null,
   "id": "0375e810",
   "metadata": {},
   "outputs": [],
   "source": [
    "early_stopp_cb.stopped_epoch"
   ]
  },
  {
   "cell_type": "markdown",
   "id": "90a083f3",
   "metadata": {},
   "source": [
    "- 20번중 15번 반복에서 조기종료"
   ]
  },
  {
   "cell_type": "markdown",
   "id": "2b4c09ca",
   "metadata": {},
   "source": [
    "#### 결론\n",
    "- `심층 신경망` : 2개 이상의 밀집층을 포함한 신경망 모델. 다층 인공신경망\n",
    "- `렐루함수` : 시그모이드 함수의 단점을 보완한 활성화 함수\n",
    "- `옵티마이저` : 신경망의 가중치(기울기)와 절편을 학습하기 위한 알고리즘 또는 방법. `Adam`, SGD(확률적 경사하강법), RMSprop...\n",
    "- `드롭아웃` : 밀집층의 뉴런을 임의로 꺼서 훈련을 덜 시키는 것. 과대적합 막기위해서 수행\n",
    "- 모델 저장과 복원 : 이미 훈련된 데이터를 저장했다가 나중에 다시 쓰기 위해서\n",
    "- `콜백` : 에포크마다 모델 저장 또는 조기종료를 위해서 훈련 도중에 다른 기능을 수행하는 것"
   ]
  }
 ],
 "metadata": {
  "kernelspec": {
   "display_name": "mlvenv",
   "language": "python",
   "name": "python3"
  },
  "language_info": {
   "codemirror_mode": {
    "name": "ipython",
    "version": 3
   },
   "file_extension": ".py",
   "mimetype": "text/x-python",
   "name": "python",
   "nbconvert_exporter": "python",
   "pygments_lexer": "ipython3",
   "version": "3.11.9"
  }
 },
 "nbformat": 4,
 "nbformat_minor": 5
}
